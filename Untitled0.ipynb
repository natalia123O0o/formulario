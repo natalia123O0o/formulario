{
  "nbformat": 4,
  "nbformat_minor": 0,
  "metadata": {
    "colab": {
      "provenance": [],
      "authorship_tag": "ABX9TyNG7yn8yXsJUXy6RbxxC32p",
      "include_colab_link": true
    },
    "kernelspec": {
      "name": "python3",
      "display_name": "Python 3"
    },
    "language_info": {
      "name": "python"
    }
  },
  "cells": [
    {
      "cell_type": "markdown",
      "metadata": {
        "id": "view-in-github",
        "colab_type": "text"
      },
      "source": [
        "<a href=\"https://colab.research.google.com/github/natalia123O0o/formulario/blob/main/Untitled0.ipynb\" target=\"_parent\"><img src=\"https://colab.research.google.com/assets/colab-badge.svg\" alt=\"Open In Colab\"/></a>"
      ]
    },
    {
      "cell_type": "code",
      "execution_count": null,
      "metadata": {
        "colab": {
          "base_uri": "https://localhost:8080/"
        },
        "id": "0X5rVyTK1DAk",
        "outputId": "c91c5af9-4afe-43c3-fe83-7675ecddb574"
      },
      "outputs": [
        {
          "output_type": "stream",
          "name": "stdout",
          "text": [
            "hola mundo\n"
          ]
        }
      ],
      "source": [
        "print(\"hola mundo\")"
      ]
    },
    {
      "cell_type": "code",
      "source": [
        "x = 100\n",
        "y = 50\n",
        "z= x/y\n",
        "print(z)"
      ],
      "metadata": {
        "colab": {
          "base_uri": "https://localhost:8080/"
        },
        "id": "7rbA-OWe1SAk",
        "outputId": "d0c9c326-cc85-4a3f-eebb-808bdf7ef892"
      },
      "execution_count": null,
      "outputs": [
        {
          "output_type": "stream",
          "name": "stdout",
          "text": [
            "2.0\n"
          ]
        }
      ]
    },
    {
      "cell_type": "code",
      "source": [
        "print(5/2)\n",
        "print(5%2)"
      ],
      "metadata": {
        "colab": {
          "base_uri": "https://localhost:8080/"
        },
        "id": "Sa8bx5HW1l0z",
        "outputId": "30142dd3-2d97-41b3-fda8-be107c8e3a59"
      },
      "execution_count": null,
      "outputs": [
        {
          "output_type": "stream",
          "name": "stdout",
          "text": [
            "2.5\n"
          ]
        }
      ]
    },
    {
      "cell_type": "code",
      "source": [
        "print(15/4)\n",
        "print(5//4)"
      ],
      "metadata": {
        "colab": {
          "base_uri": "https://localhost:8080/"
        },
        "id": "GSrFU5Vr1sx7",
        "outputId": "1d2f5e9a-c203-4f94-f25e-60cccb88e3bd"
      },
      "execution_count": null,
      "outputs": [
        {
          "output_type": "stream",
          "name": "stdout",
          "text": [
            "3.75\n",
            "1\n"
          ]
        }
      ]
    },
    {
      "cell_type": "code",
      "source": [
        "x = 1_250_000 + 3_240_000\n",
        "y = 1250000 + 3240000\n",
        "print (x, y)"
      ],
      "metadata": {
        "colab": {
          "base_uri": "https://localhost:8080/"
        },
        "id": "ZUE6qpDA2YK7",
        "outputId": "0227b446-a201-4349-9cdb-e9e6dd383af5"
      },
      "execution_count": null,
      "outputs": [
        {
          "output_type": "stream",
          "name": "stdout",
          "text": [
            "4490000 4490000\n"
          ]
        }
      ]
    },
    {
      "cell_type": "code",
      "source": [
        "print(0b101)\n",
        "print(0o12)\n",
        "print(0x12)\n",
        "print(hex(0o174))\n",
        "print(bin(5))\n",
        "print(oct(0xA21))"
      ],
      "metadata": {
        "colab": {
          "base_uri": "https://localhost:8080/"
        },
        "id": "-cyeEbEF23vk",
        "outputId": "975402fe-90aa-4759-ca2a-4de5777ee808"
      },
      "execution_count": null,
      "outputs": [
        {
          "output_type": "stream",
          "name": "stdout",
          "text": [
            "5\n",
            "10\n",
            "18\n",
            "0x7c\n",
            "0b101\n",
            "0o5041\n"
          ]
        }
      ]
    },
    {
      "cell_type": "code",
      "source": [
        "print(2&3) #10 & 11 =10 = 2\n",
        "print (2|3) #10 | 11 = 11 = 3\n",
        "print (2^3) # 10 ^ 11 = 01 = 1"
      ],
      "metadata": {
        "colab": {
          "base_uri": "https://localhost:8080/"
        },
        "id": "-kPzvqC04T4V",
        "outputId": "eadc83ef-6af9-4225-8aae-459dcb432adb"
      },
      "execution_count": null,
      "outputs": [
        {
          "output_type": "stream",
          "name": "stdout",
          "text": [
            "2\n",
            "3\n",
            "1\n"
          ]
        }
      ]
    },
    {
      "cell_type": "code",
      "source": [
        "print (1 & 3) #01 & 11\n",
        "print ( 21 | 12) # 0b1001 | 0b1100\n",
        "print (5 & 8)"
      ],
      "metadata": {
        "colab": {
          "base_uri": "https://localhost:8080/"
        },
        "id": "4n4nWaNc5vLt",
        "outputId": "9e4c0556-2e30-4e5a-b705-8a87a46feb91"
      },
      "execution_count": null,
      "outputs": [
        {
          "output_type": "stream",
          "name": "stdout",
          "text": [
            "1\n",
            "29\n",
            "0\n"
          ]
        }
      ]
    },
    {
      "cell_type": "code",
      "source": [
        "print(bin(21))\n",
        "print(bin(12))\n",
        "x = 0b10101\n",
        "y = 0b1100\n",
        "print(x | y)"
      ],
      "metadata": {
        "colab": {
          "base_uri": "https://localhost:8080/"
        },
        "id": "CcXZunch9BG9",
        "outputId": "cc726640-b645-42d6-f0dd-8e7d5378c69d"
      },
      "execution_count": null,
      "outputs": [
        {
          "output_type": "stream",
          "name": "stdout",
          "text": [
            "0b10101\n",
            "0b1100\n",
            "29\n"
          ]
        }
      ]
    },
    {
      "cell_type": "code",
      "source": [
        "print (3 > 5) # false\n",
        "print ( 3 <= 5) # true\n",
        "print ( 3 != 5) # true\n",
        "print ( type(3) is type (5)) # true\n",
        "print (type(3) is type(5.0)) # false\n",
        "print (3 in[4,5,6]) # false\n",
        "print (3 in[4,3,5,6]) # false"
      ],
      "metadata": {
        "colab": {
          "base_uri": "https://localhost:8080/"
        },
        "id": "tvQ6UDdl-Cl9",
        "outputId": "d723483f-84f2-4b47-97c6-3789f9a3a6e6"
      },
      "execution_count": null,
      "outputs": [
        {
          "output_type": "stream",
          "name": "stdout",
          "text": [
            "False\n",
            "True\n",
            "True\n",
            "True\n",
            "False\n",
            "False\n",
            "True\n"
          ]
        }
      ]
    },
    {
      "cell_type": "code",
      "source": [
        "print (2**3) # 8\n",
        "print (2E3) # 2002\n",
        "print (2.5E2) # 250\n",
        "print (.5E4) # 5000"
      ],
      "metadata": {
        "colab": {
          "base_uri": "https://localhost:8080/"
        },
        "id": "aj3lAoKD_bsj",
        "outputId": "21d02a94-dddd-46cb-a84b-7e7025b4c5cd"
      },
      "execution_count": null,
      "outputs": [
        {
          "output_type": "stream",
          "name": "stdout",
          "text": [
            "8\n",
            "2000.0\n",
            "250.0\n",
            "5000.0\n"
          ]
        }
      ]
    },
    {
      "cell_type": "code",
      "source": [
        "x = 3\n",
        "y = 5\n",
        "z = x + y\n",
        "print(z)\n"
      ],
      "metadata": {
        "colab": {
          "base_uri": "https://localhost:8080/"
        },
        "id": "Hsa36HgfAFfU",
        "outputId": "5c4e32e8-fd17-46c5-affc-ec338371dbd3"
      },
      "execution_count": null,
      "outputs": [
        {
          "output_type": "stream",
          "name": "stdout",
          "text": [
            "8\n"
          ]
        }
      ]
    },
    {
      "cell_type": "code",
      "source": [
        "cad = \"python\"\n",
        "print(type(cad))\n",
        "print( cad)\n",
        "print (cad[0])\n",
        "print (cad[3])\n",
        "\n",
        "print(cad.count(\"0\"))\n",
        "\n"
      ],
      "metadata": {
        "colab": {
          "base_uri": "https://localhost:8080/"
        },
        "id": "QOqwbsZAASri",
        "outputId": "f7817d4b-ffa4-4037-d71b-c7498db8cf0b"
      },
      "execution_count": null,
      "outputs": [
        {
          "output_type": "stream",
          "name": "stdout",
          "text": [
            "<class 'str'>\n",
            "python\n",
            "p\n",
            "h\n",
            "0\n"
          ]
        }
      ]
    },
    {
      "cell_type": "code",
      "source": [
        "#cadenas multilineas\n",
        "cad = \"\"\"Escucha hermano\n",
        "la cancion de la alegria\"\"\"\n",
        "print (cad)\n",
        "\n",
        "cad2 = \"\\nEl canto alegre\\ndel que espera\\nun nuevo\\ndia\"\n",
        "print(cad2)"
      ],
      "metadata": {
        "colab": {
          "base_uri": "https://localhost:8080/"
        },
        "id": "hGiJTF7nBCI8",
        "outputId": "055edbed-d410-4119-c721-d762f653a7a1"
      },
      "execution_count": null,
      "outputs": [
        {
          "output_type": "stream",
          "name": "stdout",
          "text": [
            "Escucha hermano\n",
            "la cancion de la alegria\n",
            "\n",
            "El canto alegre\n",
            "del que espera\n",
            "un nuevo\n",
            "dia\n"
          ]
        }
      ]
    },
    {
      "cell_type": "code",
      "source": [
        "#Concentacion y formateo de cadenas\n",
        "print (\"1) hola \" + \"Mundo \" + \"python\" + str(3))\n",
        "print(\"1) HoLa\", \"Mundo\", \"Python\", 3)\n",
        "\n",
        "lenguaje, version = \"python\" , 3 # asignacion multiple\n",
        "print(lenguaje)\n",
        "print(version)"
      ],
      "metadata": {
        "colab": {
          "base_uri": "https://localhost:8080/"
        },
        "id": "YvPFxXGnCFwr",
        "outputId": "4ccdf03e-45f5-4659-88e6-552b046d62e5"
      },
      "execution_count": null,
      "outputs": [
        {
          "output_type": "stream",
          "name": "stdout",
          "text": [
            "1) hola Mundo python3\n",
            "1) HoLa Mundo Python 3\n",
            "python\n",
            "3\n"
          ]
        }
      ]
    },
    {
      "cell_type": "code",
      "source": [
        "lenguaje, version = \"python\", 3\n",
        "print(\"3) hola mundo %s %s \" %(lenguaje, version))\n",
        "\n",
        "print (\"4) hola mundo {} {}\".format(lenguaje, version))\n",
        "print(f\"5) hola mundo {lenguaje} {version}\")\n",
        "\n",
        "print (\"6) hola\", lenguaje, \"mundo\" )"
      ],
      "metadata": {
        "colab": {
          "base_uri": "https://localhost:8080/"
        },
        "id": "ezK3fb7vDdal",
        "outputId": "bab7ed75-73a1-42cb-c5c9-811beafc1b33"
      },
      "execution_count": null,
      "outputs": [
        {
          "output_type": "stream",
          "name": "stdout",
          "text": [
            "3) hola mundo python 3 \n",
            "4) hola mundo python 3\n",
            "5) hola mundo python 3\n",
            "6) hola python mundo\n"
          ]
        }
      ]
    },
    {
      "cell_type": "code",
      "source": [
        "cadena = \"si\"\n",
        "print ((cadena*3, \"este amor es tan profundo\"))\n",
        "print (((\"*\"*8)+ \"\\n\")*4)"
      ],
      "metadata": {
        "colab": {
          "base_uri": "https://localhost:8080/"
        },
        "id": "MZSskTaQE-O6",
        "outputId": "f96f1679-0e1b-44c8-90b4-d38b13fca0c2"
      },
      "execution_count": null,
      "outputs": [
        {
          "output_type": "stream",
          "name": "stdout",
          "text": [
            "('sisisi', 'este amor es tan profundo')\n",
            "********\n",
            "********\n",
            "********\n",
            "********\n",
            "\n"
          ]
        }
      ]
    },
    {
      "cell_type": "code",
      "source": [
        "print(bin(5))\n",
        "print(bin(8))\n",
        "x = 0b101\n",
        "y = 0b1000\n",
        "print(x & y)"
      ],
      "metadata": {
        "colab": {
          "base_uri": "https://localhost:8080/"
        },
        "id": "1h5PcCDc9MML",
        "outputId": "7edf58ed-4b1d-4df9-a14e-120b6b8d5b82"
      },
      "execution_count": null,
      "outputs": [
        {
          "output_type": "stream",
          "name": "stdout",
          "text": [
            "0b101\n",
            "0b1000\n",
            "0\n"
          ]
        }
      ]
    },
    {
      "cell_type": "code",
      "source": [
        "print(bin(21))\n",
        "print(bin(12))\n",
        "x = 0b10101\n",
        "y = 0b1100\n",
        "print(x & y)"
      ],
      "metadata": {
        "colab": {
          "base_uri": "https://localhost:8080/"
        },
        "id": "Php_LVDi7Aty",
        "outputId": "bfb22d10-73a5-4e0f-b3de-ca8cd497896a"
      },
      "execution_count": null,
      "outputs": [
        {
          "output_type": "stream",
          "name": "stdout",
          "text": [
            "0b10101\n",
            "0b1100\n",
            "4\n"
          ]
        }
      ]
    },
    {
      "cell_type": "code",
      "source": [
        "print(\"+\"+10 *\"-\" + \"+\")"
      ],
      "metadata": {
        "colab": {
          "base_uri": "https://localhost:8080/"
        },
        "id": "y1ohSTN1Y8bM",
        "outputId": "4d8cb4e9-2a9b-4bac-94de-f9d6937d9ccb"
      },
      "execution_count": 1,
      "outputs": [
        {
          "output_type": "stream",
          "name": "stdout",
          "text": [
            "+----------+\n"
          ]
        }
      ]
    },
    {
      "cell_type": "code",
      "source": [
        "print(\"+\"+10 *\"-\" + \"+\")\n",
        "print((\"|\"+ \" \" * 10 +\"|\\n\") * 5, end=\"\")\n",
        "print(\"+\"+10 *\"-\" + \"+\")"
      ],
      "metadata": {
        "colab": {
          "base_uri": "https://localhost:8080/"
        },
        "id": "gQXCiQqZZWjI",
        "outputId": "47f4ec5f-1a36-49bb-ec84-33e2a12daaf5"
      },
      "execution_count": 9,
      "outputs": [
        {
          "output_type": "stream",
          "name": "stdout",
          "text": [
            "+----------+\n",
            "|          |\n",
            "|          |\n",
            "|          |\n",
            "|          |\n",
            "|          |\n",
            "+----------+\n"
          ]
        }
      ]
    },
    {
      "cell_type": "code",
      "source": [
        "cadena =\"lenguaje de programación python\"\n",
        "print(cadena[0:8])\n",
        "print(cadena[9:11])\n",
        "print(cadena[12:24])\n",
        "print(cadena[25:31])\n"
      ],
      "metadata": {
        "colab": {
          "base_uri": "https://localhost:8080/"
        },
        "id": "mfRxuE4CbNOz",
        "outputId": "b32477cd-7294-4e78-8470-d69aa1de5af6"
      },
      "execution_count": 34,
      "outputs": [
        {
          "output_type": "stream",
          "name": "stdout",
          "text": [
            "lenguaje\n",
            "de\n",
            "programación\n",
            "python\n"
          ]
        }
      ]
    },
    {
      "cell_type": "code",
      "source": [
        "cadena = \"lenguaje de programacion python\"\n",
        "\n",
        "print(cadena[:3])\n",
        "print(cadena[25:])\n",
        "print(cadena[-6:-2])\n",
        "print(cadena[-9])"
      ],
      "metadata": {
        "colab": {
          "base_uri": "https://localhost:8080/"
        },
        "id": "HhupqobXcv6s",
        "outputId": "2f6bf089-30d1-4f48-bafd-ccb3c088659c"
      },
      "execution_count": 39,
      "outputs": [
        {
          "output_type": "stream",
          "name": "stdout",
          "text": [
            "len\n",
            "python\n",
            "pyth\n",
            "o\n"
          ]
        }
      ]
    },
    {
      "cell_type": "code",
      "source": [
        "a,b = \"3\", \"5\"\n",
        "\n",
        "print (a+b)\n",
        "print(int(a)+ int(b))"
      ],
      "metadata": {
        "colab": {
          "base_uri": "https://localhost:8080/"
        },
        "id": "9Gmq5Eatefk7",
        "outputId": "7fba7a30-6330-4b4b-973d-7eccb8c6728a"
      },
      "execution_count": 43,
      "outputs": [
        {
          "output_type": "stream",
          "name": "stdout",
          "text": [
            "35\n",
            "8\n"
          ]
        }
      ]
    },
    {
      "cell_type": "code",
      "source": [
        "from posixpath import basename\n",
        "cadena_base=\"mi pobre angelito\".lower()\n",
        "cad1 = cadena_base.upper()\n",
        "\n",
        "\n",
        "print(cad1)\n",
        "\n",
        "numero_de_o = cadena_base.count(\"o\") #devuelve el numero de veces que se encuetra en la sub cadena\n",
        "print(numero_de_o)\n",
        "\n",
        "print(f\"la letra 'o' esta {numero_de_o} veces en la palabra/frase '{cadena_base}'\")"
      ],
      "metadata": {
        "colab": {
          "base_uri": "https://localhost:8080/"
        },
        "id": "NFOYHuSKfM-B",
        "outputId": "bb7479bc-443e-4e20-de84-61af30efeab0"
      },
      "execution_count": 90,
      "outputs": [
        {
          "output_type": "stream",
          "name": "stdout",
          "text": [
            "MI POBRE ANGELITO\n",
            "2\n",
            "la letra 'o' esta 2 veces en la palabra/frase 'mi pobre angelito'\n"
          ]
        }
      ]
    },
    {
      "cell_type": "code",
      "source": [
        "marca = input(\"Ingrese la marca del auto:\")\n",
        "print(\"la marca del carro ingresada por el usuario es\", marca)"
      ],
      "metadata": {
        "colab": {
          "base_uri": "https://localhost:8080/"
        },
        "id": "qmnmJZCzgwTj",
        "outputId": "e9ccd2f5-2f34-4acd-d68b-642e424e7e6d"
      },
      "execution_count": 91,
      "outputs": [
        {
          "output_type": "stream",
          "name": "stdout",
          "text": [
            "Ingrese la marca del auto:mazda\n",
            "la marca del carro ingresada por el usuario es mazda\n"
          ]
        }
      ]
    },
    {
      "cell_type": "code",
      "source": [
        "precio = int(input(\"Ingrese precio:\"))\n",
        "print(f\"El auto marca {marca} tiene un precio de $ {precio}y con el descuento del 10% le queda en ${precio*0.9}\")\n",
        "print(\"El auto marca {} tiene un precio de ${:,} y con el descuento del 10% le queda en ${:,}\".format(marca,precio,precio*0.9))"
      ],
      "metadata": {
        "colab": {
          "base_uri": "https://localhost:8080/"
        },
        "id": "pxCG0wz_hhLr",
        "outputId": "484db83e-c087-4a4c-9b45-0c5867d14a82"
      },
      "execution_count": 105,
      "outputs": [
        {
          "output_type": "stream",
          "name": "stdout",
          "text": [
            "Ingrese precio:5000\n",
            "El auto marca mazda tiene un precio de $ 5000y con el descuento del 10% le queda en $4500.0\n",
            "El auto marca mazda tiene un precio de $5,000 y con el descuento del 10% le queda en $4,500.0\n"
          ]
        }
      ]
    },
    {
      "cell_type": "code",
      "source": [
        "# prompt: haga una ecuacion lineal con codigo `python\n",
        "\n",
        "# Define the coefficients of the linear equation (ax + b = 0)\n",
        "a = 2\n",
        "b = -6\n",
        "c = +5\n",
        "\n",
        "# Calculate the solution for x\n",
        "x = -b / a +5\n",
        "\n",
        "# Print the solution\n",
        "print(f\"The solution to the linear equation {a}x + {b} + {c} = 0 is x = {x}\")\n"
      ],
      "metadata": {
        "colab": {
          "base_uri": "https://localhost:8080/"
        },
        "id": "NpOUDZKxibtL",
        "outputId": "09d79c46-25e7-45db-b075-dc5e833fd70e"
      },
      "execution_count": 111,
      "outputs": [
        {
          "output_type": "stream",
          "name": "stdout",
          "text": [
            "The solution to the linear equation 2x + -6 + 5 = 0 is x = 8.0\n"
          ]
        }
      ]
    },
    {
      "cell_type": "code",
      "source": [],
      "metadata": {
        "id": "DFA3x-MQlEVz"
      },
      "execution_count": null,
      "outputs": []
    }
  ]
}