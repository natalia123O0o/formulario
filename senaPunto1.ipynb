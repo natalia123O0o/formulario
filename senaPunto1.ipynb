{
  "nbformat": 4,
  "nbformat_minor": 0,
  "metadata": {
    "colab": {
      "provenance": [],
      "authorship_tag": "ABX9TyMLSV5dpkjlH3fO7dxM0zNf",
      "include_colab_link": true
    },
    "kernelspec": {
      "name": "python3",
      "display_name": "Python 3"
    },
    "language_info": {
      "name": "python"
    }
  },
  "cells": [
    {
      "cell_type": "markdown",
      "metadata": {
        "id": "view-in-github",
        "colab_type": "text"
      },
      "source": [
        "<a href=\"https://colab.research.google.com/github/natalia123O0o/formulario/blob/main/senaPunto1.ipynb\" target=\"_parent\"><img src=\"https://colab.research.google.com/assets/colab-badge.svg\" alt=\"Open In Colab\"/></a>"
      ]
    },
    {
      "cell_type": "code",
      "execution_count": 1,
      "metadata": {
        "colab": {
          "base_uri": "https://localhost:8080/"
        },
        "id": "Y35Bu7BDfK9Z",
        "outputId": "911b6807-ea58-4b4f-c870-05bcdc1011c9"
      },
      "outputs": [
        {
          "output_type": "stream",
          "name": "stdout",
          "text": [
            "¿Cuál fue la cantidad de frutos recolectados?: 23\n",
            "¿Cuál fue la cantidad de frutos que usted ha producido?: 23\n",
            "El índice de cosecha es: 100.0 %\n"
          ]
        }
      ],
      "source": [
        "# Definición de la función indicecosecha que toma dos argumentos:\n",
        "# cantidad_frutos_recolectados y cantidad_frutos_producidos.\n",
        "def indicecosecha(cantidad_frutos_recolectados, cantidad_frutos_producidos):\n",
        "    # Cálculo del índice de cosecha como el porcentaje de frutos producidos\n",
        "    # respecto a los recolectados.\n",
        "    indice = cantidad_frutos_producidos / cantidad_frutos_recolectados * 100\n",
        "    # Retorno del valor del índice calculado.\n",
        "    return indice\n",
        "\n",
        "# Solicitud al usuario de la cantidad de frutos recolectados\n",
        "# y conversión de la entrada a un número decimal.\n",
        "cantidad_frutos_recolectados = float(input(\"¿Cuál fue la cantidad de frutos recolectados?: \"))\n",
        "\n",
        "# Solicitud al usuario de la cantidad de frutos producidos\n",
        "# y conversión de la entrada a un número decimal.\n",
        "cantidad_frutos_producidos = float(input(\"¿Cuál fue la cantidad de frutos que usted ha producido?: \"))\n",
        "\n",
        "# Llamada a la función indicecosecha con los valores introducidos por el usuario\n",
        "# y almacenamiento del resultado en la variable cosecha.\n",
        "cosecha = indicecosecha(cantidad_frutos_producidos, cantidad_frutos_recolectados)\n",
        "\n",
        "# Redondeo del valor del índice de cosecha a 9 decimales.\n",
        "cosecha = round(cosecha, 9)\n",
        "\n",
        "# Impresión del índice de cosecha redondeado con un mensaje indicativo\n",
        "# seguido del símbolo de porcentaje.\n",
        "print(\"El índice de cosecha es:\", cosecha, \"%\")"
      ]
    }
  ]
}