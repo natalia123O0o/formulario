{
  "nbformat": 4,
  "nbformat_minor": 0,
  "metadata": {
    "colab": {
      "provenance": [],
      "authorship_tag": "ABX9TyOXs34pDKYzeKquaTTK2q4j",
      "include_colab_link": true
    },
    "kernelspec": {
      "name": "python3",
      "display_name": "Python 3"
    },
    "language_info": {
      "name": "python"
    }
  },
  "cells": [
    {
      "cell_type": "markdown",
      "metadata": {
        "id": "view-in-github",
        "colab_type": "text"
      },
      "source": [
        "<a href=\"https://colab.research.google.com/github/natalia123O0o/formulario/blob/main/puntosSena.ipynb\" target=\"_parent\"><img src=\"https://colab.research.google.com/assets/colab-badge.svg\" alt=\"Open In Colab\"/></a>"
      ]
    },
    {
      "cell_type": "markdown",
      "source": [],
      "metadata": {
        "id": "_ZQQJIebhNR4"
      }
    },
    {
      "cell_type": "markdown",
      "source": [
        "**punto 1**  Realice un programa que calcule el índice de cosecha de un cultivo en función de la cantidad de frutos recolectados y la cantidad de frutos producidos en total.\n"
      ],
      "metadata": {
        "id": "R412LNS9hQfO"
      }
    },
    {
      "cell_type": "code",
      "source": [
        "# Definición de la función indicecosecha que toma dos argumentos:\n",
        "# cantidad_frutos_recolectados y cantidad_frutos_producidos.\n",
        "def indicecosecha(cantidad_frutos_recolectados, cantidad_frutos_producidos):\n",
        "    # Cálculo del índice de cosecha como el porcentaje de frutos producidos\n",
        "    # respecto a los recolectados.\n",
        "    indice = cantidad_frutos_producidos / cantidad_frutos_recolectados * 100\n",
        "    # Retorno del valor del índice calculado.\n",
        "    return indice\n",
        "\n",
        "# Solicitud al usuario de la cantidad de frutos recolectados\n",
        "# y conversión de la entrada a un número decimal.\n",
        "cantidad_frutos_recolectados = float(input(\"¿Cuál fue la cantidad de frutos recolectados?: \"))\n",
        "\n",
        "# Solicitud al usuario de la cantidad de frutos producidos\n",
        "# y conversión de la entrada a un número decimal.\n",
        "cantidad_frutos_producidos = float(input(\"¿Cuál fue la cantidad de frutos que usted ha producido?: \"))\n",
        "\n",
        "# Llamada a la función indicecosecha con los valores introducidos por el usuario\n",
        "# y almacenamiento del resultado en la variable cosecha.\n",
        "cosecha = indicecosecha(cantidad_frutos_producidos, cantidad_frutos_recolectados)\n",
        "\n",
        "# Redondeo del valor del índice de cosecha a 9 decimales.\n",
        "cosecha = round(cosecha, 9)\n",
        "\n",
        "# Impresión del índice de cosecha redondeado con un mensaje indicativo\n",
        "# seguido del símbolo de porcentaje.\n",
        "print(\"El índice de cosecha es:\", cosecha, \"%\")"
      ],
      "metadata": {
        "id": "_TKsC0pZhT2p"
      },
      "execution_count": null,
      "outputs": []
    },
    {
      "cell_type": "markdown",
      "source": [
        "**punto 2** Dibujar la P de Python que abarque 7 filas y 5 columnas. Use solo una línea de código"
      ],
      "metadata": {
        "id": "e-qHSjazhZeb"
      }
    },
    {
      "cell_type": "code",
      "source": [
        "print(\" \" + 7 * \"-\" + \"\\n\" + (\"|\" + \" \" * 6 + \"|\\n\") * 2 + \"|\" + 7 * \"-\" + \"\\n\" + \"|\" )"
      ],
      "metadata": {
        "id": "8epV9eUwhcD6"
      },
      "execution_count": null,
      "outputs": []
    },
    {
      "cell_type": "markdown",
      "source": [
        "**punto 3**  Un alumno desea saber cuál será su calificación final en la materia de Matemáticas. Dicha calificación se compone de los siguientes porcentajes: 55% del promedio de sus tres calificaciones parciales (se debe leer cada calificación parcial). 30% de la calificación del examen final. 15% de la calificación de un trabajo final.\n",
        "\n"
      ],
      "metadata": {
        "id": "YQtbNhHvhkZC"
      }
    },
    {
      "cell_type": "code",
      "source": [
        "def calificacion_mat (nota1,nota2,nota3,examen,trabajo):\n",
        "    promedio = nota1+nota2+nota3/3\n",
        "    parcial = promedio*0.55\n",
        "    tres = examen*0.30\n",
        "    final =trabajo*0.15\n",
        "    calificacion = parcial + tres + final\n",
        "    return calificacion\n",
        "\n",
        "nota1 = float(input(\"¿Cuál fue su primera calificacion?: \"))\n",
        "nota2 = float(input(\"¿Cuál fue su segunda calificacion?: \"))\n",
        "nota3 = float(input(\"¿Cuál fue su tercera calificacion?: \"))\n",
        "examen = float(input(\"¿Cuál fue su nota en el examen?: \"))\n",
        "trabajo = float(input(\"¿Cuál fue su nota del trabajo final?: \"))\n",
        "\n",
        "calificacion_final = calificacion_mat(nota1, nota2, nota3, examen, trabajo)\n",
        "print(\"Su nota final es:\", calificacion_final)"
      ],
      "metadata": {
        "id": "0cu70mOxhny5"
      },
      "execution_count": null,
      "outputs": []
    },
    {
      "cell_type": "markdown",
      "source": [],
      "metadata": {
        "id": "eFTGQEaOh148"
      }
    },
    {
      "cell_type": "markdown",
      "source": [
        "**punto 4**  Recibir una frase por parte del usuario y devolver el número de palabras que se encuentran en la frase."
      ],
      "metadata": {
        "id": "AAcytwTIh4bt"
      }
    },
    {
      "cell_type": "code",
      "source": [
        "def calcular_palabras(frase):\n",
        "    # Dividido la frase en palabras utilizando split() que se separa por espacios\n",
        "    palabras = frase.split()\n",
        "    # Cuenta el número de palabras en la lista resultante\n",
        "    return len(palabras)\n",
        "\n",
        "# se le solicita al usua q ponga la frase\n",
        "frase_usuario = input(\"Introduce una frase: \")\n",
        "\n",
        "# Llame ala funcion calcular_palabras yme muestra el numero de palabras\n",
        "numero_palabras = calcular_palabras(frase_usuario)\n",
        "print(\"El número de palabras en la frase es:\", numero_palabras)\n"
      ],
      "metadata": {
        "id": "uukZLvcRh6rA"
      },
      "execution_count": null,
      "outputs": []
    },
    {
      "cell_type": "markdown",
      "source": [
        "**punto 5 **     Recibir una frase y transformarla a mayúscula sostenida e invirtiendo su contenido"
      ],
      "metadata": {
        "id": "Aw6sjlHQh9OR"
      }
    },
    {
      "cell_type": "code",
      "source": [
        "def cambiar_frase(frase):\n",
        "    # Convertir la frase a mayúsculas\n",
        "    frase_mayuscula = frase.upper()\n",
        "    # Invertir el contenido de la frase\n",
        "    frase_invertida = frase_mayuscula[::-1]\n",
        "    return frase_invertida\n",
        "\n",
        "# se le pide una frase al usuario\n",
        "frase_usuario = input(\"Introduce una frase: \")\n",
        "\n",
        "# Llamar a la función transformar_frase y tiene  el resultado\n",
        "frase_transformada = cambiar_frase(frase_usuario)\n",
        "\n",
        "# Mostrar la frase transformada\n",
        "print(\"La frase transformada es:\", frase_transformada)"
      ],
      "metadata": {
        "id": "zAmIjbz2h_N7"
      },
      "execution_count": null,
      "outputs": []
    }
  ]
}